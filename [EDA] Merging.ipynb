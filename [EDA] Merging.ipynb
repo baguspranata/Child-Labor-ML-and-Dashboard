{
 "cells": [
  {
   "cell_type": "markdown",
   "id": "716cc61d",
   "metadata": {},
   "source": [
    "## Import library and Data"
   ]
  },
  {
   "cell_type": "code",
   "execution_count": 1,
   "id": "7f393a63",
   "metadata": {},
   "outputs": [],
   "source": [
    "import pandas as pd"
   ]
  },
  {
   "cell_type": "code",
   "execution_count": 2,
   "id": "c566aa78",
   "metadata": {},
   "outputs": [],
   "source": [
    "sweat_1 = pd.read_excel(\"sweat_and_toil _1.xlsx\")\n",
    "sweat_2 = pd.read_excel(\"sweat_and_toil_2.xlsx\")\n",
    "unicef_1 = pd.read_excel(\"unicef_childrens_rights_1.xlsx\")"
   ]
  },
  {
   "cell_type": "markdown",
   "id": "40ac793d",
   "metadata": {},
   "source": [
    "## FILTER SWEAT DATA 2 BY ONLY INCLUIDING VALUES FOR THE YEAR 2022\n",
    "\n",
    "We agreed to only use data from the year 2022"
   ]
  },
  {
   "cell_type": "code",
   "execution_count": 3,
   "id": "4f1936f9",
   "metadata": {},
   "outputs": [
    {
     "name": "stdout",
     "output_type": "stream",
     "text": [
      "Count of Unique countries: 131\n"
     ]
    }
   ],
   "source": [
    "sweat_2_2022 = sweat_2[sweat_2['Year'] == 2022]\n",
    "unique_values_sweat_2_country = sweat_2_2022['Country'].unique()\n",
    "\n",
    "print(\"Count of Unique countries:\", len(unique_values_sweat_2_country))"
   ]
  },
  {
   "cell_type": "markdown",
   "id": "24c7b51d",
   "metadata": {},
   "source": [
    "## COUNT UNIQUE COUNTRIES IN THE DATA"
   ]
  },
  {
   "cell_type": "code",
   "execution_count": 4,
   "id": "a2b687ff",
   "metadata": {},
   "outputs": [
    {
     "name": "stdout",
     "output_type": "stream",
     "text": [
      "Unique countries in unicef_1: 195\n",
      "Unique countries in sweat_2_2022: 131\n",
      "Unique countries in sweat_1: 80\n"
     ]
    }
   ],
   "source": [
    "unique_values_unicef1_country = unicef_1['Country'].unique()\n",
    "unique_values_sweat_2_country = sweat_2_2022['Country'].unique()\n",
    "unique_values_sweat_1_country = sweat_1['Country'].unique()\n",
    "\n",
    "print(\"Unique countries in unicef_1:\", len(unique_values_unicef1_country))\n",
    "print(\"Unique countries in sweat_2_2022:\", len(unique_values_sweat_2_country))\n",
    "print(\"Unique countries in sweat_1:\", len(unique_values_sweat_1_country))"
   ]
  },
  {
   "cell_type": "markdown",
   "id": "e4dbb764",
   "metadata": {},
   "source": [
    "## MERGE SWEAT_1 & SWEAT_2 DATA\n",
    "\n",
    "First I merge the 2 sweat datasets, by \"Country\", \"Country Numeric Iso Code\", \"Country Iso Code\"\n"
   ]
  },
  {
   "cell_type": "code",
   "execution_count": 7,
   "id": "8156e9ad",
   "metadata": {},
   "outputs": [
    {
     "name": "stdout",
     "output_type": "stream",
     "text": [
      "Unique countries in merged_sweat 144\n",
      "\n",
      "Total count of rows with missing values: 675\n",
      "Number of unique countries with missing values: 144\n"
     ]
    }
   ],
   "source": [
    "# MERGE SWEAT USING OUTER FUNCTION\n",
    "merged_sweat = pd.merge(sweat_1, sweat_2_2022,  on=[\"Country\", \"Country Numeric Iso Code\", \"Country Iso Code\"], \n",
    "                        how=\"outer\")\n",
    "# Count unique values\n",
    "unique_values_merged_sweat_country = merged_sweat['Country'].unique()\n",
    "print(\"Unique countries in merged_sweat\", len(unique_values_merged_sweat_country))\n",
    "\n",
    "\n",
    "# Total count of rows with missing values across all columns\n",
    "total_missing_rows = merged_sweat.isna().any(axis=1).sum()\n",
    "\n",
    "print(\"\\nTotal count of rows with missing values:\", total_missing_rows)\n",
    "\n",
    "# Filter to include only rows with missing values\n",
    "missing_rows = merged_sweat[merged_sweat.isna().any(axis=1)]\n",
    "\n",
    "# Calculate the number of unique values in the \"Country\" column within the filtered DataFrame\n",
    "unique_countries_with_missing_values = missing_rows['Country'].nunique()\n",
    "\n",
    "print(\"Number of unique countries with missing values:\", unique_countries_with_missing_values)\n",
    "\n",
    "\n"
   ]
  },
  {
   "cell_type": "code",
   "execution_count": 6,
   "id": "12ad2f80",
   "metadata": {},
   "outputs": [
    {
     "name": "stdout",
     "output_type": "stream",
     "text": [
      "<class 'pandas.core.frame.DataFrame'>\n",
      "Int64Index: 675 entries, 0 to 674\n",
      "Data columns (total 83 columns):\n",
      " #   Column                                                     Non-Null Count  Dtype  \n",
      "---  ------                                                     --------------  -----  \n",
      " 0   Country Numeric Iso Code                                   675 non-null    int64  \n",
      " 1   Country Iso Code                                           673 non-null    object \n",
      " 2   Country                                                    675 non-null    object \n",
      " 3   Sector                                                     611 non-null    object \n",
      " 4   Good                                                       611 non-null    object \n",
      " 5   Exploitation_Type                                          611 non-null    object \n",
      " 6   Year Added                                                 611 non-null    float64\n",
      " 7   Year Removed                                               520 non-null    float64\n",
      " 8   Region                                                     581 non-null    object \n",
      " 9   Region Id                                                  581 non-null    float64\n",
      " 10  Year                                                       581 non-null    float64\n",
      " 11  Summary Paragraph                                          581 non-null    object \n",
      " 12  Assessment_Level                                           581 non-null    object \n",
      " 13  Assessment Level Id                                        581 non-null    float64\n",
      " 14  Age Range Of Working Children                              581 non-null    object \n",
      " 15  Percent Of Working Children                                581 non-null    object \n",
      " 16  Population_Of_Working_Children                             581 non-null    object \n",
      " 17  Percent Of Working Children Agriculture                    581 non-null    object \n",
      " 18  Percent Of Working Children Industry                       581 non-null    object \n",
      " 19  Percent Of Working Children Services                       581 non-null    object \n",
      " 20  Age Range Of Children Attending School                     581 non-null    object \n",
      " 21  Percentage Of Children Attending School                    581 non-null    object \n",
      " 22  Age Range Of Children Working And Studying                 581 non-null    object \n",
      " 23  Percent Of Children Working And Studying                   581 non-null    object \n",
      " 24  Primary Completion Rate                                    581 non-null    object \n",
      " 25  Ilo C 182 Ratified                                         577 non-null    object \n",
      " 26  Crc Ratified                                               579 non-null    object \n",
      " 27  Crc Csec Ratified                                          579 non-null    object \n",
      " 28  Crc Ac Ratified                                            579 non-null    object \n",
      " 29  Palermo Ratified                                           579 non-null    object \n",
      " 30  Minimum Work Conforms Standard                             581 non-null    object \n",
      " 31  Minimum Work Age                                           581 non-null    object \n",
      " 32  Minimum Work Is Calculated Age                             581 non-null    object \n",
      " 33  Minimum Hazardous Work Conforms Standard                   581 non-null    object \n",
      " 34  Minimum Hazardous Work Age                                 581 non-null    object \n",
      " 35  Minimum Hazardous Work Is Calculated Age                   581 non-null    object \n",
      " 36  Identification Of Hazardous Occupations List               581 non-null    object \n",
      " 37  Prohibition Forced Labor Conforms Standard                 581 non-null    object \n",
      " 38  Prohibition Child Trafficking Conforms Standard            581 non-null    object \n",
      " 39  Prohibition Csec Conforms Standard                         581 non-null    object \n",
      " 40  Prohibition Illicit Activities Conforms Standard           581 non-null    object \n",
      " 41  Minimum Compulsory Military Conforms Standard              314 non-null    object \n",
      " 42  Minimum Compulsory Military Age                            581 non-null    object \n",
      " 43  Minimum Compulsory Military Is Calculated                  581 non-null    object \n",
      " 44  Minumum Voluntary Military Conforms Standard               538 non-null    object \n",
      " 45  Minumum Voluntary Military Age                             581 non-null    object \n",
      " 46  Minumum Voluntary Military Is Calculated                   581 non-null    object \n",
      " 47  Minumum Non State Military Conforms Standard               314 non-null    object \n",
      " 48  Minumum Non State Military Age                             0 non-null      object \n",
      " 49  Minumum Non State Military Is Calculated                   581 non-null    object \n",
      " 50  Compulsory Education Conforms Standard                     581 non-null    object \n",
      " 51  Compulsory Education Age                                   581 non-null    object \n",
      " 52  Compulsory Education Is Calculated                         581 non-null    object \n",
      " 53  Free Public Education Conforms Standard                    581 non-null    object \n",
      " 54  Enforcement Labor Labor Funding                            566 non-null    object \n",
      " 55  Enforcement Labor Labor Inspectors                         566 non-null    object \n",
      " 56  Enforcement Labor Labor Inspectors Intl Standards          566 non-null    object \n",
      " 57  Enforcement Labor Authorized Assess Penalties              566 non-null    object \n",
      " 58  Enforcement Labor Labor New Employee Training              566 non-null    object \n",
      " 59  Enforcement Labor Labor New Law Training                   581 non-null    object \n",
      " 60  Enforcement Labor Labor Refresher Courses                  581 non-null    object \n",
      " 61  Enforcement Labor Labor Inspections                        566 non-null    object \n",
      " 62  Enforcement Labor Labor Worksite Inspections               566 non-null    object \n",
      " 63  Enforcement Labor Labor Violations                         564 non-null    object \n",
      " 64  Enforcement Labor Labor Penalties Imposed                  517 non-null    object \n",
      " 65  Enforcement Labor Labor Penalties Collected                530 non-null    object \n",
      " 66  Enforcement Labor Labor Routine Inspections Conducted      565 non-null    object \n",
      " 67  Enforcement Labor Labor Routine Inspections Targeted       564 non-null    object \n",
      " 68  Enforcement Labor Labor Unannounced Inspections Permitted  566 non-null    object \n",
      " 69  Enforcement Labor Labor Unannounced Inspections Conducted  564 non-null    object \n",
      " 70  Enforcement Labor Labor Complaint Mechanism                566 non-null    object \n",
      " 71  Enforcement Labor Labor Referral Mechanism                 566 non-null    object \n",
      " 72  Enforcement Criminal Criminal New Employee Training        566 non-null    object \n",
      " 73  Enforcement Criminal Criminal New Law Training             581 non-null    object \n",
      " 74  Enforcement Criminal Criminal Refresher Courses            581 non-null    object \n",
      " 75  Enforcement Criminal Criminal Investigations               566 non-null    object \n",
      " 76  Enforcement Criminal Criminal Violations                   549 non-null    object \n",
      " 77  Enforcement Criminal Criminal Prosecutions                 565 non-null    object \n",
      " 78  Enforcement Criminal Criminal Convictions                  564 non-null    object \n",
      " 79  Enforcement Criminal Criminal Referral Mechanism           566 non-null    object \n",
      " 80  Coordination                                               572 non-null    object \n",
      " 81  Policy                                                     574 non-null    object \n",
      " 82  Program                                                    569 non-null    object \n",
      "dtypes: float64(5), int64(1), object(77)\n",
      "memory usage: 443.0+ KB\n"
     ]
    }
   ],
   "source": [
    "merged_sweat.info()"
   ]
  },
  {
   "cell_type": "markdown",
   "id": "a18e2e76",
   "metadata": {},
   "source": [
    "## MERGE SWEAT AND UNICEF DATA\n",
    "\n",
    "Then I merged the sweat and unicef data by country which is the only common column that they had."
   ]
  },
  {
   "cell_type": "code",
   "execution_count": 9,
   "id": "aa657f1c",
   "metadata": {},
   "outputs": [
    {
     "name": "stdout",
     "output_type": "stream",
     "text": [
      "Unique countries in merged_all 219\n",
      "\n",
      "Total count of rows with missing values: 750\n",
      "Number of unique countries with missing values: 219\n"
     ]
    }
   ],
   "source": [
    "# MERGE SWEAT AND UNICEF USING OUTER FUNCTION\n",
    "merged_all = pd.merge(unicef_1,merged_sweat ,  on=\"Country\", \n",
    "                        how=\"outer\")\n",
    "#Count unique values\n",
    "unique_values_merged_all_country = merged_all['Country'].unique()\n",
    "print(\"Unique countries in merged_all\", len(unique_values_merged_all_country))\n",
    "\n",
    "\n",
    "# Total count of rows with missing values across all columns\n",
    "total_missing_rows1 = merged_all.isna().any(axis=1).sum()\n",
    "\n",
    "print(\"\\nTotal count of rows with missing values:\", total_missing_rows1)\n",
    "\n",
    "# Filter the DataFrame to include only rows with missing values\n",
    "missing_rows1 = merged_all[merged_all.isna().any(axis=1)]\n",
    "\n",
    "# Calculate the number of unique values in the \"Country\" column within the filtered DataFrame\n",
    "unique_countries_with_missing_values1 = missing_rows1['Country'].nunique()\n",
    "\n",
    "print(\"Number of unique countries with missing values:\", unique_countries_with_missing_values1)\n",
    "\n"
   ]
  },
  {
   "cell_type": "code",
   "execution_count": 10,
   "id": "ec22bf7d",
   "metadata": {},
   "outputs": [
    {
     "name": "stdout",
     "output_type": "stream",
     "text": [
      "['Afghanistan' 'Albania' 'Algeria' 'Andorra' 'Angola'\n",
      " 'Antigua and Barbuda' 'Argentina' 'Armenia' 'Australia' 'Austria'\n",
      " 'Azerbaijan' 'Bahamas' 'Bahrain' 'Bangladesh' 'Barbados' 'Belarus'\n",
      " 'Belgium' 'Belize' 'Benin' 'Bhutan' 'Bolivia' 'Bosnia and Herzegovina'\n",
      " 'Botswana' 'Brazil' 'Brunei' 'Bulgaria' 'Burkina Faso' 'Burundi'\n",
      " 'Cabo Verde' 'Cambodia' 'Cameroon' 'Canada' 'Central African Republic'\n",
      " 'Chad' 'Chile' 'China' 'Colombia' 'Comoros' 'Republic of the Congo'\n",
      " 'Costa Rica' \"Côte d'Ivoire\" 'Croatia' 'Cuba' 'Cyprus' 'Czech Republic'\n",
      " 'Denmark' 'Djibouti' 'Dominica' 'Dominican Republic'\n",
      " 'Democratic Republic of the Congo' 'Ecuador' 'Egypt' 'El Salvador'\n",
      " 'Equatorial Guinea' 'Eritrea' 'Estonia' 'Ethiopia' 'Fiji' 'Finland'\n",
      " 'France' 'Gabon' 'Gambia' 'Georgia' 'Germany' 'Ghana' 'Greece' 'Grenada'\n",
      " 'Guatemala' 'Guinea' 'Guinea-Bissau' 'Guyana' 'Haiti' 'Honduras'\n",
      " 'Hungary' 'Iceland' 'India' 'Indonesia' 'Iran' 'Iraq' 'Ireland' 'Israel'\n",
      " 'Italy' 'Jamaica' 'Japan' 'Jordan' 'Kazakhstan' 'Kenya' 'Kiribati'\n",
      " 'Kosovo' 'Kuwait' 'Kyrgyzstan' 'Laos' 'Latvia' 'Lebanon' 'Lesotho'\n",
      " 'Liberia' 'Libya' 'Liechtenstein' 'Lithuania' 'Luxembourg' 'Macedonia'\n",
      " 'Madagascar' 'Malawi' 'Malaysia' 'Maldives' 'Mali' 'Malta'\n",
      " 'Marshall Islands' 'Mauritania' 'Mauritius' 'Mexico' 'Micronesia'\n",
      " 'Moldova' 'Monaco' 'Mongolia' 'Montenegro' 'Morocco' 'Mozambique'\n",
      " 'Myanmar' 'Namibia' 'Nauru' 'Nepal' 'Netherlands' 'New Zealand'\n",
      " 'Nicaragua' 'Niger' 'Nigeria' 'North Korea' 'Norway' 'Oman' 'Pakistan'\n",
      " 'Palau' 'Panama' 'Papua New Guinea' 'Paraguay' 'Peru' 'Philippines'\n",
      " 'Poland' 'Portugal' 'Qatar' 'Romania' 'Russia' 'Rwanda'\n",
      " 'Saint Kitts and Nevis' 'Saint Lucia' 'Saint Vincent and The Grenadines'\n",
      " 'Samoa' 'San Marino' 'Sao Tome and Principe' 'Saudi Arabia' 'Senegal'\n",
      " 'Serbia' 'Seychelles' 'Sierra Leone' 'Singapore' 'Slovakia' 'Slovenia'\n",
      " 'Solomon Islands' 'Somalia' 'South Africa' 'South Korea' 'South Sudan'\n",
      " 'Spain' 'Sri Lanka' 'State of Palestine' 'Sudan' 'Suriname' 'Swaziland'\n",
      " 'Sweden' 'Switzerland' 'Syria' 'Tajikistan' 'Tanzania' 'Thailand'\n",
      " 'Timor-Leste' 'Togo' 'Tonga' 'Trinidad and Tobago' 'Tunisia' 'Turkey'\n",
      " 'Turkmenistan' 'Tuvalu' 'Uganda' 'Ukraine' 'United Arab Emirates'\n",
      " 'United Kingdom' 'United States' 'Uruguay' 'Uzbekistan' 'Vanuatu'\n",
      " 'Venezuela' 'Vietnam' 'Yemen' 'Zambia' 'Zimbabwe' 'Burma' 'Eswatini'\n",
      " 'Kyrgyz Republic' 'Malaysia ' 'Taiwan' 'Turkmenistan ' 'Anguilla'\n",
      " 'British Virgin Islands' 'Christmas Island' 'Cocos (Keeling) Islands'\n",
      " 'Cook Islands' \"Cote d'Ivoire\" 'Falkland Islands (Islas Malvinas)'\n",
      " 'Montserrat' 'Niue' 'Norfolk Island' 'North Macedonia'\n",
      " 'Saint Helena, Ascension, and Tristan da Cunha'\n",
      " 'Saint Vincent and the Grenadines' 'The Gambia' 'Tokelau'\n",
      " 'Wallis and Futuna' 'West Bank and the Gaza Strip' 'Western Sahara']\n"
     ]
    }
   ],
   "source": [
    "print(unique_values_merged_all_country)"
   ]
  },
  {
   "cell_type": "code",
   "execution_count": 11,
   "id": "2ab73545",
   "metadata": {},
   "outputs": [
    {
     "name": "stdout",
     "output_type": "stream",
     "text": [
      "<class 'pandas.core.frame.DataFrame'>\n",
      "Int64Index: 750 entries, 0 to 749\n",
      "Data columns (total 88 columns):\n",
      " #   Column                                                     Non-Null Count  Dtype  \n",
      "---  ------                                                     --------------  -----  \n",
      " 0   Country                                                    750 non-null    object \n",
      " 1   Index_score                                                690 non-null    float64\n",
      " 2   Due_Diligence_Reponse                                      690 non-null    object \n",
      " 3   Legal_framework_score                                      690 non-null    float64\n",
      " 4   Enforcement_score                                          690 non-null    float64\n",
      " 5   Outcome_score                                              690 non-null    float64\n",
      " 6   Country Numeric Iso Code                                   675 non-null    float64\n",
      " 7   Country Iso Code                                           673 non-null    object \n",
      " 8   Sector                                                     611 non-null    object \n",
      " 9   Good                                                       611 non-null    object \n",
      " 10  Exploitation_Type                                          611 non-null    object \n",
      " 11  Year Added                                                 611 non-null    float64\n",
      " 12  Year Removed                                               520 non-null    float64\n",
      " 13  Region                                                     581 non-null    object \n",
      " 14  Region Id                                                  581 non-null    float64\n",
      " 15  Year                                                       581 non-null    float64\n",
      " 16  Summary Paragraph                                          581 non-null    object \n",
      " 17  Assessment_Level                                           581 non-null    object \n",
      " 18  Assessment Level Id                                        581 non-null    float64\n",
      " 19  Age Range Of Working Children                              581 non-null    object \n",
      " 20  Percent Of Working Children                                581 non-null    object \n",
      " 21  Population_Of_Working_Children                             581 non-null    object \n",
      " 22  Percent Of Working Children Agriculture                    581 non-null    object \n",
      " 23  Percent Of Working Children Industry                       581 non-null    object \n",
      " 24  Percent Of Working Children Services                       581 non-null    object \n",
      " 25  Age Range Of Children Attending School                     581 non-null    object \n",
      " 26  Percentage Of Children Attending School                    581 non-null    object \n",
      " 27  Age Range Of Children Working And Studying                 581 non-null    object \n",
      " 28  Percent Of Children Working And Studying                   581 non-null    object \n",
      " 29  Primary Completion Rate                                    581 non-null    object \n",
      " 30  Ilo C 182 Ratified                                         577 non-null    object \n",
      " 31  Crc Ratified                                               579 non-null    object \n",
      " 32  Crc Csec Ratified                                          579 non-null    object \n",
      " 33  Crc Ac Ratified                                            579 non-null    object \n",
      " 34  Palermo Ratified                                           579 non-null    object \n",
      " 35  Minimum Work Conforms Standard                             581 non-null    object \n",
      " 36  Minimum Work Age                                           581 non-null    object \n",
      " 37  Minimum Work Is Calculated Age                             581 non-null    object \n",
      " 38  Minimum Hazardous Work Conforms Standard                   581 non-null    object \n",
      " 39  Minimum Hazardous Work Age                                 581 non-null    object \n",
      " 40  Minimum Hazardous Work Is Calculated Age                   581 non-null    object \n",
      " 41  Identification Of Hazardous Occupations List               581 non-null    object \n",
      " 42  Prohibition Forced Labor Conforms Standard                 581 non-null    object \n",
      " 43  Prohibition Child Trafficking Conforms Standard            581 non-null    object \n",
      " 44  Prohibition Csec Conforms Standard                         581 non-null    object \n",
      " 45  Prohibition Illicit Activities Conforms Standard           581 non-null    object \n",
      " 46  Minimum Compulsory Military Conforms Standard              314 non-null    object \n",
      " 47  Minimum Compulsory Military Age                            581 non-null    object \n",
      " 48  Minimum Compulsory Military Is Calculated                  581 non-null    object \n",
      " 49  Minumum Voluntary Military Conforms Standard               538 non-null    object \n",
      " 50  Minumum Voluntary Military Age                             581 non-null    object \n",
      " 51  Minumum Voluntary Military Is Calculated                   581 non-null    object \n",
      " 52  Minumum Non State Military Conforms Standard               314 non-null    object \n",
      " 53  Minumum Non State Military Age                             0 non-null      object \n",
      " 54  Minumum Non State Military Is Calculated                   581 non-null    object \n",
      " 55  Compulsory Education Conforms Standard                     581 non-null    object \n",
      " 56  Compulsory Education Age                                   581 non-null    object \n",
      " 57  Compulsory Education Is Calculated                         581 non-null    object \n",
      " 58  Free Public Education Conforms Standard                    581 non-null    object \n",
      " 59  Enforcement Labor Labor Funding                            566 non-null    object \n",
      " 60  Enforcement Labor Labor Inspectors                         566 non-null    object \n",
      " 61  Enforcement Labor Labor Inspectors Intl Standards          566 non-null    object \n",
      " 62  Enforcement Labor Authorized Assess Penalties              566 non-null    object \n",
      " 63  Enforcement Labor Labor New Employee Training              566 non-null    object \n",
      " 64  Enforcement Labor Labor New Law Training                   581 non-null    object \n",
      " 65  Enforcement Labor Labor Refresher Courses                  581 non-null    object \n",
      " 66  Enforcement Labor Labor Inspections                        566 non-null    object \n",
      " 67  Enforcement Labor Labor Worksite Inspections               566 non-null    object \n",
      " 68  Enforcement Labor Labor Violations                         564 non-null    object \n",
      " 69  Enforcement Labor Labor Penalties Imposed                  517 non-null    object \n",
      " 70  Enforcement Labor Labor Penalties Collected                530 non-null    object \n",
      " 71  Enforcement Labor Labor Routine Inspections Conducted      565 non-null    object \n",
      " 72  Enforcement Labor Labor Routine Inspections Targeted       564 non-null    object \n",
      " 73  Enforcement Labor Labor Unannounced Inspections Permitted  566 non-null    object \n",
      " 74  Enforcement Labor Labor Unannounced Inspections Conducted  564 non-null    object \n",
      " 75  Enforcement Labor Labor Complaint Mechanism                566 non-null    object \n",
      " 76  Enforcement Labor Labor Referral Mechanism                 566 non-null    object \n",
      " 77  Enforcement Criminal Criminal New Employee Training        566 non-null    object \n",
      " 78  Enforcement Criminal Criminal New Law Training             581 non-null    object \n",
      " 79  Enforcement Criminal Criminal Refresher Courses            581 non-null    object \n",
      " 80  Enforcement Criminal Criminal Investigations               566 non-null    object \n",
      " 81  Enforcement Criminal Criminal Violations                   549 non-null    object \n",
      " 82  Enforcement Criminal Criminal Prosecutions                 565 non-null    object \n",
      " 83  Enforcement Criminal Criminal Convictions                  564 non-null    object \n",
      " 84  Enforcement Criminal Criminal Referral Mechanism           566 non-null    object \n",
      " 85  Coordination                                               572 non-null    object \n",
      " 86  Policy                                                     574 non-null    object \n",
      " 87  Program                                                    569 non-null    object \n",
      "dtypes: float64(10), object(78)\n",
      "memory usage: 521.5+ KB\n"
     ]
    }
   ],
   "source": [
    "merged_all.info()"
   ]
  },
  {
   "cell_type": "markdown",
   "id": "65325feb",
   "metadata": {},
   "source": [
    "Create first csv will "
   ]
  },
  {
   "cell_type": "code",
   "execution_count": 12,
   "id": "aae0b8f3",
   "metadata": {},
   "outputs": [
    {
     "name": "stdout",
     "output_type": "stream",
     "text": [
      "CSV file created successfully at: df_1.csv\n"
     ]
    }
   ],
   "source": [
    "unicef_sweat_1 = \"df_1.csv\"\n",
    "\n",
    "# Save the DataFrame to a CSV file\n",
    "merged_all.to_csv(unicef_sweat_1, index=False)\n",
    "\n",
    "print(\"CSV file created successfully at:\", unicef_sweat_1)"
   ]
  },
  {
   "cell_type": "markdown",
   "id": "d671d789",
   "metadata": {},
   "source": [
    " ## DATAFRAME_2 - FILTER COUNTRIES WITH COUNTRIES (ONLY FOUND IN SWEAT_TOIL2) EXCLUDING VALUES WITH NA FROM UNICEF DATA \n",
    "    \n",
    "Eliminated all the rows where there where there were only values for the UNICEF DATA and the rest is missing.\n",
    "\n",
    "I did this by checking values of all the columns from the unicef data plus 2 from the sweat_2 data, if they all had values they would remain in the dataframe, if they had missing values its assumend that the missing values come from the rows where the info of the countries only comes from the sweat_2 and the unicef is missing, therefore we remove this columns.\n"
   ]
  },
  {
   "cell_type": "code",
   "execution_count": 13,
   "id": "4dc194c5",
   "metadata": {},
   "outputs": [
    {
     "name": "stdout",
     "output_type": "stream",
     "text": [
      "Unique countries in unique_values_2 110\n",
      "\n",
      "Total count of rows with missing values: 529\n",
      "Number of unique countries with missing values: 110\n"
     ]
    }
   ],
   "source": [
    "# Specify the columns to check for non-null values\n",
    "columns_to_check = ['Index_score', 'Due_Diligence_Reponse', 'Legal_framework_score', \n",
    "                    'Enforcement_score', 'Outcome_score', 'Population_Of_Working_Children',\n",
    "                     'Assessment_Level']\n",
    "\n",
    "# Specify the threshold number of columns with non-null values required to keep the row\n",
    "threshold_columns = 7  \n",
    "\n",
    "# Count non-null values across specified columns\n",
    "non_null_counts = merged_all[columns_to_check].notnull().sum(axis=1)\n",
    "\n",
    "# Filter rows where the count of non-null values is greater than or equal to the threshold\n",
    "filtered_df = merged_all[non_null_counts >= threshold_columns]\n",
    "\n",
    "#Count unique values of country\n",
    "unique_values_2= filtered_df['Country'].unique()\n",
    "print(\"Unique countries in unique_values_2\", len(unique_values_2))\n",
    "\n",
    "\n",
    "# Total count of rows with missing values across all columns\n",
    "total_missing_rows = filtered_df.isna().any(axis=1).sum()\n",
    "\n",
    "print(\"\\nTotal count of rows with missing values:\", total_missing_rows)\n",
    "\n",
    "# Filter the DataFrame to include only rows with missing values\n",
    "missing_rows = filtered_df[filtered_df.isna().any(axis=1)]\n",
    "\n",
    "# Calculate the number of unique values in the \"Country\" column within the filtered DataFrame\n",
    "unique_countries_with_missing_values = missing_rows['Country'].nunique()\n",
    "\n",
    "print(\"Number of unique countries with missing values:\", unique_countries_with_missing_values)\n"
   ]
  },
  {
   "cell_type": "code",
   "execution_count": 14,
   "id": "075055a3",
   "metadata": {},
   "outputs": [
    {
     "name": "stdout",
     "output_type": "stream",
     "text": [
      "['Afghanistan' 'Albania' 'Algeria' 'Angola' 'Argentina' 'Armenia'\n",
      " 'Azerbaijan' 'Bangladesh' 'Belize' 'Benin' 'Bhutan' 'Bolivia'\n",
      " 'Bosnia and Herzegovina' 'Botswana' 'Brazil' 'Burkina Faso' 'Burundi'\n",
      " 'Cabo Verde' 'Cambodia' 'Cameroon' 'Central African Republic' 'Chad'\n",
      " 'Chile' 'Colombia' 'Comoros' 'Republic of the Congo' 'Costa Rica'\n",
      " 'Djibouti' 'Dominica' 'Dominican Republic'\n",
      " 'Democratic Republic of the Congo' 'Ecuador' 'Egypt' 'El Salvador'\n",
      " 'Eritrea' 'Ethiopia' 'Fiji' 'Gabon' 'Georgia' 'Ghana' 'Grenada'\n",
      " 'Guatemala' 'Guinea' 'Guinea-Bissau' 'Guyana' 'Haiti' 'Honduras' 'India'\n",
      " 'Indonesia' 'Iraq' 'Jamaica' 'Jordan' 'Kazakhstan' 'Kenya' 'Kiribati'\n",
      " 'Kosovo' 'Lebanon' 'Lesotho' 'Liberia' 'Madagascar' 'Malawi' 'Maldives'\n",
      " 'Mali' 'Mauritania' 'Mauritius' 'Mexico' 'Moldova' 'Mongolia'\n",
      " 'Montenegro' 'Morocco' 'Mozambique' 'Namibia' 'Nepal' 'Nicaragua' 'Niger'\n",
      " 'Nigeria' 'Oman' 'Pakistan' 'Panama' 'Papua New Guinea' 'Paraguay' 'Peru'\n",
      " 'Philippines' 'Rwanda' 'Saint Lucia' 'Samoa' 'Sao Tome and Principe'\n",
      " 'Senegal' 'Serbia' 'Sierra Leone' 'Solomon Islands' 'Somalia'\n",
      " 'South Africa' 'South Sudan' 'Sri Lanka' 'Suriname' 'Tanzania' 'Thailand'\n",
      " 'Timor-Leste' 'Togo' 'Tonga' 'Tunisia' 'Tuvalu' 'Uganda' 'Ukraine'\n",
      " 'Uzbekistan' 'Vanuatu' 'Yemen' 'Zambia' 'Zimbabwe']\n"
     ]
    }
   ],
   "source": [
    "print(unique_values_2)"
   ]
  },
  {
   "cell_type": "code",
   "execution_count": 15,
   "id": "f00b0726",
   "metadata": {},
   "outputs": [
    {
     "name": "stdout",
     "output_type": "stream",
     "text": [
      "CSV file created successfully at: df_2.csv\n"
     ]
    }
   ],
   "source": [
    "unicef_sweat_2 = \"df_2.csv\"\n",
    "\n",
    "# Save the DataFrame to a CSV file\n",
    "filtered_df.to_csv(unicef_sweat_2, index=False)\n",
    "\n",
    "print(\"CSV file created successfully at:\", unicef_sweat_2)"
   ]
  },
  {
   "cell_type": "markdown",
   "id": "a43038e1",
   "metadata": {},
   "source": [
    " ## DATAFRAME_3 - FILTER COUNTRIES WITH COUNTRIES ONLY FOUND IN SWEAT_TOIL1\n",
    "    \n",
    "Eliminated all the rows where there where there were only values for the UNICEF DATA and the rest is missing.\n",
    "\n",
    "I did this by checking values of all the columns from the unicef data plus 2 from the sweat_2 data, if they all had values they would remain in the dataframe, if they had missing values its assumend that the missing values come from the rows where the info of the countries only comes from the sweat_2 and the unicef is missing, therefore we remove this columns."
   ]
  },
  {
   "cell_type": "code",
   "execution_count": 16,
   "id": "9dd4c866",
   "metadata": {},
   "outputs": [
    {
     "name": "stdout",
     "output_type": "stream",
     "text": [
      "Unique countries in unique_values_2 64\n",
      "\n",
      "Total count of rows with missing values: 483\n",
      "Number of unique countries with missing values: 64\n"
     ]
    }
   ],
   "source": [
    "# Specify the columns to check for non-null values\n",
    "columns_to_check2 = ['Index_score', 'Due_Diligence_Reponse', 'Legal_framework_score', \n",
    "                    'Enforcement_score', 'Outcome_score', 'Population_Of_Working_Children',\n",
    "                     'Assessment_Level','Good', 'Exploitation_Type']\n",
    "\n",
    "# Specify the threshold number of columns with non-null values required to keep the row\n",
    "threshold_columns2 = 9  # Change this to the desired number of columns\n",
    "\n",
    "# Count non-null values across specified columns\n",
    "non_null_counts2 = filtered_df[columns_to_check2].notnull().sum(axis=1)\n",
    "\n",
    "# Filter rows where the count of non-null values is greater than or equal to the threshold\n",
    "filtered_df2 = filtered_df[non_null_counts2 >= threshold_columns2]\n",
    "\n",
    "#Count unique values\n",
    "unique_values_3= filtered_df2['Country'].unique()\n",
    "print(\"Unique countries in unique_values_2\", len(unique_values_3))\n",
    "\n",
    "# Total count of rows with missing values across all columns\n",
    "total_missing_rows3 = filtered_df2.isna().any(axis=1).sum()\n",
    "\n",
    "print(\"\\nTotal count of rows with missing values:\", total_missing_rows3)\n",
    "\n",
    "# Filter the DataFrame to include only rows with missing values\n",
    "missing_rows3 = filtered_df2[filtered_df2.isna().any(axis=1)]\n",
    "\n",
    "# Calculate the number of unique values in the \"Country\" column within the filtered DataFrame\n",
    "unique_countries_with_missing_values3 = missing_rows3['Country'].nunique()\n",
    "\n",
    "print(\"Number of unique countries with missing values:\", unique_countries_with_missing_values3)"
   ]
  },
  {
   "cell_type": "code",
   "execution_count": 20,
   "id": "f9990304",
   "metadata": {},
   "outputs": [
    {
     "name": "stdout",
     "output_type": "stream",
     "text": [
      "['Afghanistan' 'Angola' 'Argentina' 'Azerbaijan' 'Bangladesh' 'Belize'\n",
      " 'Benin' 'Bolivia' 'Brazil' 'Burkina Faso' 'Cambodia' 'Cameroon'\n",
      " 'Central African Republic' 'Chad' 'Colombia' 'Costa Rica'\n",
      " 'Dominican Republic' 'Democratic Republic of the Congo' 'Ecuador' 'Egypt'\n",
      " 'El Salvador' 'Ethiopia' 'Ghana' 'Guatemala' 'Guinea' 'Honduras' 'India'\n",
      " 'Indonesia' 'Jordan' 'Kazakhstan' 'Kenya' 'Lebanon' 'Lesotho' 'Liberia'\n",
      " 'Madagascar' 'Malawi' 'Mali' 'Mauritania' 'Mexico' 'Mongolia'\n",
      " 'Mozambique' 'Namibia' 'Nepal' 'Nicaragua' 'Niger' 'Nigeria' 'Pakistan'\n",
      " 'Panama' 'Paraguay' 'Peru' 'Philippines' 'Rwanda' 'Senegal'\n",
      " 'Sierra Leone' 'South Sudan' 'Suriname' 'Tanzania' 'Thailand' 'Uganda'\n",
      " 'Ukraine' 'Uzbekistan' 'Yemen' 'Zambia' 'Zimbabwe']\n"
     ]
    }
   ],
   "source": [
    "print(unique_values_3)\n"
   ]
  },
  {
   "cell_type": "code",
   "execution_count": 17,
   "id": "d0eca3d1",
   "metadata": {},
   "outputs": [
    {
     "name": "stdout",
     "output_type": "stream",
     "text": [
      "<class 'pandas.core.frame.DataFrame'>\n",
      "Int64Index: 483 entries, 0 to 689\n",
      "Data columns (total 88 columns):\n",
      " #   Column                                                     Non-Null Count  Dtype  \n",
      "---  ------                                                     --------------  -----  \n",
      " 0   Country                                                    483 non-null    object \n",
      " 1   Index_score                                                483 non-null    float64\n",
      " 2   Due_Diligence_Reponse                                      483 non-null    object \n",
      " 3   Legal_framework_score                                      483 non-null    float64\n",
      " 4   Enforcement_score                                          483 non-null    float64\n",
      " 5   Outcome_score                                              483 non-null    float64\n",
      " 6   Country Numeric Iso Code                                   483 non-null    float64\n",
      " 7   Country Iso Code                                           481 non-null    object \n",
      " 8   Sector                                                     483 non-null    object \n",
      " 9   Good                                                       483 non-null    object \n",
      " 10  Exploitation_Type                                          483 non-null    object \n",
      " 11  Year Added                                                 483 non-null    float64\n",
      " 12  Year Removed                                               392 non-null    float64\n",
      " 13  Region                                                     483 non-null    object \n",
      " 14  Region Id                                                  483 non-null    float64\n",
      " 15  Year                                                       483 non-null    float64\n",
      " 16  Summary Paragraph                                          483 non-null    object \n",
      " 17  Assessment_Level                                           483 non-null    object \n",
      " 18  Assessment Level Id                                        483 non-null    float64\n",
      " 19  Age Range Of Working Children                              483 non-null    object \n",
      " 20  Percent Of Working Children                                483 non-null    object \n",
      " 21  Population_Of_Working_Children                             483 non-null    object \n",
      " 22  Percent Of Working Children Agriculture                    483 non-null    object \n",
      " 23  Percent Of Working Children Industry                       483 non-null    object \n",
      " 24  Percent Of Working Children Services                       483 non-null    object \n",
      " 25  Age Range Of Children Attending School                     483 non-null    object \n",
      " 26  Percentage Of Children Attending School                    483 non-null    object \n",
      " 27  Age Range Of Children Working And Studying                 483 non-null    object \n",
      " 28  Percent Of Children Working And Studying                   483 non-null    object \n",
      " 29  Primary Completion Rate                                    483 non-null    object \n",
      " 30  Ilo C 182 Ratified                                         483 non-null    object \n",
      " 31  Crc Ratified                                               483 non-null    object \n",
      " 32  Crc Csec Ratified                                          483 non-null    object \n",
      " 33  Crc Ac Ratified                                            483 non-null    object \n",
      " 34  Palermo Ratified                                           483 non-null    object \n",
      " 35  Minimum Work Conforms Standard                             483 non-null    object \n",
      " 36  Minimum Work Age                                           483 non-null    object \n",
      " 37  Minimum Work Is Calculated Age                             483 non-null    object \n",
      " 38  Minimum Hazardous Work Conforms Standard                   483 non-null    object \n",
      " 39  Minimum Hazardous Work Age                                 483 non-null    object \n",
      " 40  Minimum Hazardous Work Is Calculated Age                   483 non-null    object \n",
      " 41  Identification Of Hazardous Occupations List               483 non-null    object \n",
      " 42  Prohibition Forced Labor Conforms Standard                 483 non-null    object \n",
      " 43  Prohibition Child Trafficking Conforms Standard            483 non-null    object \n",
      " 44  Prohibition Csec Conforms Standard                         483 non-null    object \n",
      " 45  Prohibition Illicit Activities Conforms Standard           483 non-null    object \n",
      " 46  Minimum Compulsory Military Conforms Standard              258 non-null    object \n",
      " 47  Minimum Compulsory Military Age                            483 non-null    object \n",
      " 48  Minimum Compulsory Military Is Calculated                  483 non-null    object \n",
      " 49  Minumum Voluntary Military Conforms Standard               455 non-null    object \n",
      " 50  Minumum Voluntary Military Age                             483 non-null    object \n",
      " 51  Minumum Voluntary Military Is Calculated                   483 non-null    object \n",
      " 52  Minumum Non State Military Conforms Standard               258 non-null    object \n",
      " 53  Minumum Non State Military Age                             0 non-null      object \n",
      " 54  Minumum Non State Military Is Calculated                   483 non-null    object \n",
      " 55  Compulsory Education Conforms Standard                     483 non-null    object \n",
      " 56  Compulsory Education Age                                   483 non-null    object \n",
      " 57  Compulsory Education Is Calculated                         483 non-null    object \n",
      " 58  Free Public Education Conforms Standard                    483 non-null    object \n",
      " 59  Enforcement Labor Labor Funding                            482 non-null    object \n",
      " 60  Enforcement Labor Labor Inspectors                         482 non-null    object \n",
      " 61  Enforcement Labor Labor Inspectors Intl Standards          483 non-null    object \n",
      " 62  Enforcement Labor Authorized Assess Penalties              482 non-null    object \n",
      " 63  Enforcement Labor Labor New Employee Training              482 non-null    object \n",
      " 64  Enforcement Labor Labor New Law Training                   483 non-null    object \n",
      " 65  Enforcement Labor Labor Refresher Courses                  483 non-null    object \n",
      " 66  Enforcement Labor Labor Inspections                        482 non-null    object \n",
      " 67  Enforcement Labor Labor Worksite Inspections               482 non-null    object \n",
      " 68  Enforcement Labor Labor Violations                         482 non-null    object \n",
      " 69  Enforcement Labor Labor Penalties Imposed                  445 non-null    object \n",
      " 70  Enforcement Labor Labor Penalties Collected                462 non-null    object \n",
      " 71  Enforcement Labor Labor Routine Inspections Conducted      482 non-null    object \n",
      " 72  Enforcement Labor Labor Routine Inspections Targeted       481 non-null    object \n",
      " 73  Enforcement Labor Labor Unannounced Inspections Permitted  482 non-null    object \n",
      " 74  Enforcement Labor Labor Unannounced Inspections Conducted  481 non-null    object \n",
      " 75  Enforcement Labor Labor Complaint Mechanism                482 non-null    object \n",
      " 76  Enforcement Labor Labor Referral Mechanism                 482 non-null    object \n",
      " 77  Enforcement Criminal Criminal New Employee Training        482 non-null    object \n",
      " 78  Enforcement Criminal Criminal New Law Training             483 non-null    object \n",
      " 79  Enforcement Criminal Criminal Refresher Courses            483 non-null    object \n",
      " 80  Enforcement Criminal Criminal Investigations               482 non-null    object \n",
      " 81  Enforcement Criminal Criminal Violations                   470 non-null    object \n",
      " 82  Enforcement Criminal Criminal Prosecutions                 482 non-null    object \n",
      " 83  Enforcement Criminal Criminal Convictions                  482 non-null    object \n",
      " 84  Enforcement Criminal Criminal Referral Mechanism           482 non-null    object \n",
      " 85  Coordination                                               482 non-null    object \n",
      " 86  Policy                                                     483 non-null    object \n",
      " 87  Program                                                    483 non-null    object \n",
      "dtypes: float64(10), object(78)\n",
      "memory usage: 335.8+ KB\n"
     ]
    }
   ],
   "source": [
    "filtered_df2.info()"
   ]
  },
  {
   "cell_type": "code",
   "execution_count": 18,
   "id": "efb468dd",
   "metadata": {},
   "outputs": [
    {
     "name": "stdout",
     "output_type": "stream",
     "text": [
      "CSV file created successfully at: df_3.csv\n"
     ]
    }
   ],
   "source": [
    "unicef_sweat_3 = \"df_3.csv\"\n",
    "\n",
    "# Save the DataFrame to a CSV file\n",
    "filtered_df2.to_csv(unicef_sweat_3, index=False)\n",
    "\n",
    "print(\"CSV file created successfully at:\", unicef_sweat_3)"
   ]
  },
  {
   "cell_type": "code",
   "execution_count": null,
   "id": "6182c959",
   "metadata": {},
   "outputs": [],
   "source": []
  }
 ],
 "metadata": {
  "kernelspec": {
   "display_name": "Python 3 (ipykernel)",
   "language": "python",
   "name": "python3"
  },
  "language_info": {
   "codemirror_mode": {
    "name": "ipython",
    "version": 3
   },
   "file_extension": ".py",
   "mimetype": "text/x-python",
   "name": "python",
   "nbconvert_exporter": "python",
   "pygments_lexer": "ipython3",
   "version": "3.11.4"
  }
 },
 "nbformat": 4,
 "nbformat_minor": 5
}
